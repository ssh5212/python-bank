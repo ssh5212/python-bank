{
 "cells": [
  {
   "cell_type": "markdown",
   "id": "e90a0745",
   "metadata": {},
   "source": [
    "## 3.2.1 pandas Series\n",
    "\n",
    "판다스는 리스트, 튜플 등의 iterable 값을 넘김으로써 생성이 가능하다."
   ]
  },
  {
   "cell_type": "code",
   "execution_count": 1,
   "id": "88ef62f1",
   "metadata": {},
   "outputs": [],
   "source": [
    "import pandas as pd"
   ]
  },
  {
   "cell_type": "code",
   "execution_count": 16,
   "id": "f45e32a3",
   "metadata": {},
   "outputs": [],
   "source": [
    "s = pd.Series([0.0, 3.6, 2.0, 5.8, 4.2, 8.0])"
   ]
  },
  {
   "cell_type": "code",
   "execution_count": 17,
   "id": "8d07df5f",
   "metadata": {},
   "outputs": [
    {
     "data": {
      "text/plain": [
       "0    0.0\n",
       "1    3.6\n",
       "2    2.0\n",
       "3    5.8\n",
       "4    4.2\n",
       "5    8.0\n",
       "dtype: float64"
      ]
     },
     "execution_count": 17,
     "metadata": {},
     "output_type": "execute_result"
    }
   ],
   "source": [
    "s"
   ]
  },
  {
   "cell_type": "code",
   "execution_count": 18,
   "id": "a9b8f4e1",
   "metadata": {},
   "outputs": [
    {
     "name": "stdout",
     "output_type": "stream",
     "text": [
      "0    0.0\n",
      "1    3.6\n",
      "2    2.0\n",
      "3    5.8\n",
      "4    4.2\n",
      "5    8.0\n",
      "dtype: float64\n"
     ]
    }
   ],
   "source": [
    "print(s)"
   ]
  },
  {
   "cell_type": "code",
   "execution_count": 19,
   "id": "45f0c16c",
   "metadata": {},
   "outputs": [],
   "source": [
    "s.index = pd.Index([5, 4, 3, 2, 1, 0])"
   ]
  },
  {
   "cell_type": "code",
   "execution_count": 20,
   "id": "0b31a97c",
   "metadata": {},
   "outputs": [],
   "source": [
    "s.index.name = 'MY_IDX'"
   ]
  },
  {
   "cell_type": "code",
   "execution_count": 21,
   "id": "6b7c49f7",
   "metadata": {
    "scrolled": true
   },
   "outputs": [
    {
     "data": {
      "text/plain": [
       "MY_IDX\n",
       "5    0.0\n",
       "4    3.6\n",
       "3    2.0\n",
       "2    5.8\n",
       "1    4.2\n",
       "0    8.0\n",
       "dtype: float64"
      ]
     },
     "execution_count": 21,
     "metadata": {},
     "output_type": "execute_result"
    }
   ],
   "source": [
    "s"
   ]
  },
  {
   "cell_type": "code",
   "execution_count": 22,
   "id": "7aec24c9",
   "metadata": {},
   "outputs": [],
   "source": [
    "s.name = 'MY_SERIES'"
   ]
  },
  {
   "cell_type": "code",
   "execution_count": 23,
   "id": "6bed6367",
   "metadata": {},
   "outputs": [
    {
     "data": {
      "text/plain": [
       "MY_IDX\n",
       "5    0.0\n",
       "4    3.6\n",
       "3    2.0\n",
       "2    5.8\n",
       "1    4.2\n",
       "0    8.0\n",
       "Name: MY_SERIES, dtype: float64"
      ]
     },
     "execution_count": 23,
     "metadata": {},
     "output_type": "execute_result"
    }
   ],
   "source": [
    "s"
   ]
  },
  {
   "cell_type": "markdown",
   "id": "65cf7868",
   "metadata": {},
   "source": [
    "## 3.1.2 데이터 추가"
   ]
  },
  {
   "cell_type": "markdown",
   "id": "7a197b97",
   "metadata": {},
   "source": [
    "인덱스와 데이터를 통해 추가"
   ]
  },
  {
   "cell_type": "code",
   "execution_count": 25,
   "id": "a5d9ebd1",
   "metadata": {},
   "outputs": [],
   "source": [
    "s[-1] = 5.5"
   ]
  },
  {
   "cell_type": "code",
   "execution_count": 26,
   "id": "555c5edd",
   "metadata": {},
   "outputs": [
    {
     "data": {
      "text/plain": [
       "MY_IDX\n",
       " 5    0.0\n",
       " 4    3.6\n",
       " 3    2.0\n",
       " 2    5.8\n",
       " 1    4.2\n",
       " 0    8.0\n",
       "-1    5.5\n",
       "Name: MY_SERIES, dtype: float64"
      ]
     },
     "execution_count": 26,
     "metadata": {},
     "output_type": "execute_result"
    }
   ],
   "source": [
    "s"
   ]
  },
  {
   "cell_type": "markdown",
   "id": "c286cb0f",
   "metadata": {},
   "source": [
    "새로운 시리즈를 생성하여 append()로 추가 -> 기존에 설정한 인덱스명과 시리즈명이 사라짐"
   ]
  },
  {
   "cell_type": "code",
   "execution_count": 29,
   "id": "f72256fe",
   "metadata": {},
   "outputs": [],
   "source": [
    "ser = pd.Series([6.7, 4.2])\n",
    "s = s.append(ser)"
   ]
  },
  {
   "cell_type": "code",
   "execution_count": 30,
   "id": "f46f1fc3",
   "metadata": {
    "scrolled": false
   },
   "outputs": [
    {
     "data": {
      "text/plain": [
       " 5.0    0.0\n",
       " 4.0    3.6\n",
       " 3.0    2.0\n",
       " 2.0    5.8\n",
       " 1.0    4.2\n",
       " 0.0    8.0\n",
       "-1.0    5.5\n",
       " 6.8    6.7\n",
       " 8.0    4.2\n",
       " 0.0    6.7\n",
       " 1.0    4.2\n",
       "dtype: float64"
      ]
     },
     "execution_count": 30,
     "metadata": {},
     "output_type": "execute_result"
    }
   ],
   "source": [
    "s"
   ]
  },
  {
   "cell_type": "markdown",
   "id": "5f77690c",
   "metadata": {},
   "source": [
    "## 3.2.4 데이터 인덱싱\n",
    "\n",
    "데이터 순서에 따른 인덱싱\n",
    "\n",
    "- .index[] \n",
    "\n",
    "    인덱스 값은 index 속성을 통해서 구함\n",
    "\n",
    "\n",
    "\n",
    "- .values[]\n",
    "\n",
    "    value 값은 values 속성을 이용하여 구함"
   ]
  },
  {
   "cell_type": "code",
   "execution_count": 31,
   "id": "6af40c50",
   "metadata": {},
   "outputs": [
    {
     "data": {
      "text/plain": [
       "5.0"
      ]
     },
     "execution_count": 31,
     "metadata": {},
     "output_type": "execute_result"
    }
   ],
   "source": [
    "s.index[0]"
   ]
  },
  {
   "cell_type": "code",
   "execution_count": 32,
   "id": "ef93b7c3",
   "metadata": {},
   "outputs": [
    {
     "data": {
      "text/plain": [
       "0.0"
      ]
     },
     "execution_count": 32,
     "metadata": {},
     "output_type": "execute_result"
    }
   ],
   "source": [
    "s.values[0]"
   ]
  },
  {
   "cell_type": "markdown",
   "id": "ccd5841d",
   "metadata": {},
   "source": [
    "- .loc[]\n",
    "\n",
    "    인덱스 값을 이용하여 데이터를 구함\n",
    "    \n",
    "- .iloc[]\n",
    "    \n",
    "    데이터 순서에 따른 인덱싱\n",
    "    value와 동일한 기능이나, 결과가 여러개 존재할 때, values는 배열, iloc는 시리즈로 반환"
   ]
  },
  {
   "cell_type": "code",
   "execution_count": 34,
   "id": "e739bae7",
   "metadata": {},
   "outputs": [
    {
     "data": {
      "text/plain": [
       "0.0    8.0\n",
       "0.0    6.7\n",
       "dtype: float64"
      ]
     },
     "execution_count": 34,
     "metadata": {},
     "output_type": "execute_result"
    }
   ],
   "source": [
    "s.loc[0.0]"
   ]
  },
  {
   "cell_type": "code",
   "execution_count": 36,
   "id": "0fea3726",
   "metadata": {},
   "outputs": [
    {
     "data": {
      "text/plain": [
       "pandas.core.series.Series"
      ]
     },
     "execution_count": 36,
     "metadata": {},
     "output_type": "execute_result"
    }
   ],
   "source": [
    "type(s.iloc[:]) # Series로 반환"
   ]
  },
  {
   "cell_type": "code",
   "execution_count": 37,
   "id": "5af94b39",
   "metadata": {},
   "outputs": [
    {
     "data": {
      "text/plain": [
       "numpy.ndarray"
      ]
     },
     "execution_count": 37,
     "metadata": {},
     "output_type": "execute_result"
    }
   ],
   "source": [
    "type(s.values[:]) #ndarray로 반환"
   ]
  },
  {
   "cell_type": "markdown",
   "id": "8f99e21a",
   "metadata": {},
   "source": [
    "## 3.2.5 데이터 삭제\n",
    "- .drop()\n",
    "\n",
    "    삭제하고자하는 데이터의 원소의 인덱스 값을 지정"
   ]
  },
  {
   "cell_type": "code",
   "execution_count": 38,
   "id": "296c5b13",
   "metadata": {},
   "outputs": [
    {
     "data": {
      "text/plain": [
       " 5.0    0.0\n",
       " 4.0    3.6\n",
       " 3.0    2.0\n",
       " 2.0    5.8\n",
       " 1.0    4.2\n",
       " 0.0    8.0\n",
       "-1.0    5.5\n",
       " 6.8    6.7\n",
       " 8.0    4.2\n",
       " 0.0    6.7\n",
       " 1.0    4.2\n",
       "dtype: float64"
      ]
     },
     "execution_count": 38,
     "metadata": {},
     "output_type": "execute_result"
    }
   ],
   "source": [
    "s"
   ]
  },
  {
   "cell_type": "code",
   "execution_count": 39,
   "id": "81fad48d",
   "metadata": {},
   "outputs": [
    {
     "data": {
      "text/plain": [
       " 5.0    0.0\n",
       " 3.0    2.0\n",
       " 2.0    5.8\n",
       " 1.0    4.2\n",
       " 0.0    8.0\n",
       "-1.0    5.5\n",
       " 6.8    6.7\n",
       " 8.0    4.2\n",
       " 0.0    6.7\n",
       " 1.0    4.2\n",
       "dtype: float64"
      ]
     },
     "execution_count": 39,
     "metadata": {},
     "output_type": "execute_result"
    }
   ],
   "source": [
    "s.drop(4.0)"
   ]
  },
  {
   "cell_type": "markdown",
   "id": "612f98db",
   "metadata": {},
   "source": [
    "## 3.2.6 시리즈 정보 보기\n",
    "- count : 원소 개수\n",
    "- mean : 평균\n",
    "- std : 표준편차\n",
    "- min : 최소값\n",
    "- 25% : 제1사분위수\n",
    "- 50% : 제2사분위수\n",
    "- 75% : 제3사분위수\n",
    "- max : 최대값"
   ]
  },
  {
   "cell_type": "code",
   "execution_count": 40,
   "id": "30e3c5c4",
   "metadata": {},
   "outputs": [
    {
     "data": {
      "text/plain": [
       "count    11.000000\n",
       "mean      4.627273\n",
       "std       2.280829\n",
       "min       0.000000\n",
       "25%       3.900000\n",
       "50%       4.200000\n",
       "75%       6.250000\n",
       "max       8.000000\n",
       "dtype: float64"
      ]
     },
     "execution_count": 40,
     "metadata": {},
     "output_type": "execute_result"
    }
   ],
   "source": [
    "s.describe()"
   ]
  },
  {
   "cell_type": "markdown",
   "id": "2d7df403",
   "metadata": {},
   "source": [
    "## 3.2.7 시리즈 출력하기\n",
    "pandas + matplotlib"
   ]
  },
  {
   "cell_type": "code",
   "execution_count": 41,
   "id": "7eb9030d",
   "metadata": {},
   "outputs": [],
   "source": [
    "import pandas as pd\n",
    "import matplotlib.pyplot as plt"
   ]
  },
  {
   "cell_type": "code",
   "execution_count": 56,
   "id": "28ea5387",
   "metadata": {},
   "outputs": [],
   "source": [
    "s2 = pd.Series([0.0, 3.6, 2.0, 5.8, 4.2, 8.0, 5.5, 6.7, 4.2])"
   ]
  },
  {
   "cell_type": "code",
   "execution_count": 57,
   "id": "fd4b6287",
   "metadata": {},
   "outputs": [],
   "source": [
    "s2.index = pd.Index([0.0, 1.2, 1.8, 3.0, 3.6, 4.8, 5.9, 6.8, 8.0])"
   ]
  },
  {
   "cell_type": "code",
   "execution_count": 58,
   "id": "e4d98189",
   "metadata": {},
   "outputs": [],
   "source": [
    "s2.index.name = 'MY_IDX'"
   ]
  },
  {
   "cell_type": "code",
   "execution_count": 59,
   "id": "6b3d70b3",
   "metadata": {},
   "outputs": [],
   "source": [
    "s2.name = 'MY_SERIES'"
   ]
  },
  {
   "cell_type": "code",
   "execution_count": 62,
   "id": "8f0b4912",
   "metadata": {},
   "outputs": [
    {
     "data": {
      "image/png": "[encoded data removed]",
      "text/plain": [
       "<Figure size 432x288 with 1 Axes>"
      ]
     },
     "metadata": {
      "needs_background": "light"
     },
     "output_type": "display_data"
    }
   ],
   "source": [
    "plt.title(\"ELLIOTT_WAVE\")\n",
    "plt.plot(s2, 'bs--')\n",
    "plt.xticks(s.index)\n",
    "plt.yticks(s.values)\n",
    "plt.grid(True)\n",
    "plt.show()"
   ]
  },
  {
   "cell_type": "markdown",
   "id": "81f86940",
   "metadata": {},
   "source": [
    "## 3.3.1 데이터 프레임"
   ]
  },
  {
   "cell_type": "code",
   "execution_count": 63,
   "id": "57b33aae",
   "metadata": {},
   "outputs": [],
   "source": [
    "import pandas as pd"
   ]
  },
  {
   "cell_type": "code",
   "execution_count": null,
   "id": "6dae0d68",
   "metadata": {},
   "outputs": [],
   "source": [
    "df = "
   ]
  }
 ],
 "metadata": {
  "kernelspec": {
   "display_name": "Python 3 (ipykernel)",
   "language": "python",
   "name": "python3"
  },
  "language_info": {
   "codemirror_mode": {
    "name": "ipython",
    "version": 3
   },
   "file_extension": ".py",
   "mimetype": "text/x-python",
   "name": "python",
   "nbconvert_exporter": "python",
   "pygments_lexer": "ipython3",
   "version": "3.9.0"
  }
 },
 "nbformat": 4,
 "nbformat_minor": 5
}
