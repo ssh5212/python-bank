{
 "cells": [
  {
   "cell_type": "markdown",
   "id": "b9ec66f0",
   "metadata": {},
   "source": [
    "## 3.1.1 넘파이 기본"
   ]
  },
  {
   "cell_type": "code",
   "execution_count": 2,
   "id": "e6d37a46",
   "metadata": {},
   "outputs": [
    {
     "name": "stdout",
     "output_type": "stream",
     "text": [
      "[[1 2]\n",
      " [3 4]]\n"
     ]
    }
   ],
   "source": [
    "import numpy as np\n",
    "A = np.array([[1,2], [3,4]])\n",
    "print(A)"
   ]
  },
  {
   "cell_type": "code",
   "execution_count": 3,
   "id": "3ffc9b23",
   "metadata": {},
   "outputs": [
    {
     "data": {
      "text/plain": [
       "array([[1, 2],\n",
       "       [3, 4]])"
      ]
     },
     "execution_count": 3,
     "metadata": {},
     "output_type": "execute_result"
    }
   ],
   "source": [
    "A"
   ]
  },
  {
   "cell_type": "code",
   "execution_count": 4,
   "id": "27d9b8f4",
   "metadata": {},
   "outputs": [
    {
     "data": {
      "text/plain": [
       "(2, 2)"
      ]
     },
     "execution_count": 4,
     "metadata": {},
     "output_type": "execute_result"
    }
   ],
   "source": [
    "A.shape"
   ]
  },
  {
   "cell_type": "code",
   "execution_count": 26,
   "id": "5eedf1e7",
   "metadata": {},
   "outputs": [
    {
     "name": "stdout",
     "output_type": "stream",
     "text": [
      "2.5 4 1 10\n"
     ]
    }
   ],
   "source": [
    "print(A.mean(), A.max(), A.min(), A.sum())"
   ]
  },
  {
   "cell_type": "code",
   "execution_count": 6,
   "id": "0cac1c40",
   "metadata": {},
   "outputs": [
    {
     "data": {
      "text/plain": [
       "dtype('int32')"
      ]
     },
     "execution_count": 6,
     "metadata": {},
     "output_type": "execute_result"
    }
   ],
   "source": [
    "A.dtype"
   ]
  },
  {
   "cell_type": "markdown",
   "id": "98e7096a",
   "metadata": {},
   "source": [
    "## 3.1.3 원소 선택"
   ]
  },
  {
   "cell_type": "code",
   "execution_count": 7,
   "id": "79b11763",
   "metadata": {},
   "outputs": [
    {
     "name": "stdout",
     "output_type": "stream",
     "text": [
      "[1 2]\n"
     ]
    }
   ],
   "source": [
    "print(A[0])"
   ]
  },
  {
   "cell_type": "markdown",
   "id": "b16e04c0",
   "metadata": {},
   "source": [
    "아래 두 가지 방법은 서로 동일하다"
   ]
  },
  {
   "cell_type": "code",
   "execution_count": 11,
   "id": "e81e5517",
   "metadata": {},
   "outputs": [
    {
     "name": "stdout",
     "output_type": "stream",
     "text": [
      "1\n"
     ]
    }
   ],
   "source": [
    "print(A[0][0])"
   ]
  },
  {
   "cell_type": "code",
   "execution_count": 10,
   "id": "56a78313",
   "metadata": {},
   "outputs": [
    {
     "name": "stdout",
     "output_type": "stream",
     "text": [
      "1\n"
     ]
    }
   ],
   "source": [
    "print(A[0, 0])"
   ]
  },
  {
   "cell_type": "markdown",
   "id": "bf76f598",
   "metadata": {},
   "source": [
    "조건에 맞는 원소들만 인덱싱"
   ]
  },
  {
   "cell_type": "code",
   "execution_count": 12,
   "id": "5bde3bb0",
   "metadata": {},
   "outputs": [
    {
     "data": {
      "text/plain": [
       "array([2, 3, 4])"
      ]
     },
     "execution_count": 12,
     "metadata": {},
     "output_type": "execute_result"
    }
   ],
   "source": [
    "A[A>1]"
   ]
  },
  {
   "cell_type": "markdown",
   "id": "412b7665",
   "metadata": {},
   "source": [
    "## 3.1.4 배열 형태 바꾸기"
   ]
  },
  {
   "cell_type": "markdown",
   "id": "88c4f68c",
   "metadata": {},
   "source": [
    "- transpose() : 전치, 대각선을 기준으로 변경"
   ]
  },
  {
   "cell_type": "code",
   "execution_count": 13,
   "id": "c491e58f",
   "metadata": {},
   "outputs": [
    {
     "data": {
      "text/plain": [
       "array([[1, 2],\n",
       "       [3, 4]])"
      ]
     },
     "execution_count": 13,
     "metadata": {},
     "output_type": "execute_result"
    }
   ],
   "source": [
    "A"
   ]
  },
  {
   "cell_type": "code",
   "execution_count": 18,
   "id": "0fe07a36",
   "metadata": {},
   "outputs": [
    {
     "data": {
      "text/plain": [
       "array([[1, 3],\n",
       "       [2, 4]])"
      ]
     },
     "execution_count": 18,
     "metadata": {},
     "output_type": "execute_result"
    }
   ],
   "source": [
    "A.transpose() # == A.T"
   ]
  },
  {
   "cell_type": "markdown",
   "id": "8f157626",
   "metadata": {},
   "source": [
    "- flatten() : 평탄화, 다차원 배열 -> 1차원 배열으로 변경"
   ]
  },
  {
   "cell_type": "code",
   "execution_count": 19,
   "id": "e6647336",
   "metadata": {},
   "outputs": [
    {
     "data": {
      "text/plain": [
       "array([[1, 2],\n",
       "       [3, 4]])"
      ]
     },
     "execution_count": 19,
     "metadata": {},
     "output_type": "execute_result"
    }
   ],
   "source": [
    "A"
   ]
  },
  {
   "cell_type": "code",
   "execution_count": 20,
   "id": "319c59fc",
   "metadata": {},
   "outputs": [
    {
     "data": {
      "text/plain": [
       "array([1, 2, 3, 4])"
      ]
     },
     "execution_count": 20,
     "metadata": {},
     "output_type": "execute_result"
    }
   ],
   "source": [
    "A.flatten()"
   ]
  },
  {
   "cell_type": "markdown",
   "id": "2d4022d8",
   "metadata": {},
   "source": [
    "## 3.1.5 배열의 연산"
   ]
  },
  {
   "cell_type": "markdown",
   "id": "6f5b6729",
   "metadata": {},
   "source": [
    "같은 크기의 행렬끼리는 사칙연산이 가능함, 동일한 위치에 있는 원소끼리 연산"
   ]
  },
  {
   "cell_type": "code",
   "execution_count": 21,
   "id": "a89fe5c8",
   "metadata": {},
   "outputs": [
    {
     "data": {
      "text/plain": [
       "array([[1, 2],\n",
       "       [3, 4]])"
      ]
     },
     "execution_count": 21,
     "metadata": {},
     "output_type": "execute_result"
    }
   ],
   "source": [
    "A"
   ]
  },
  {
   "cell_type": "code",
   "execution_count": 22,
   "id": "55f92607",
   "metadata": {},
   "outputs": [
    {
     "data": {
      "text/plain": [
       "array([[2, 4],\n",
       "       [6, 8]])"
      ]
     },
     "execution_count": 22,
     "metadata": {},
     "output_type": "execute_result"
    }
   ],
   "source": [
    "A + A"
   ]
  },
  {
   "cell_type": "code",
   "execution_count": 23,
   "id": "c847dd52",
   "metadata": {},
   "outputs": [
    {
     "data": {
      "text/plain": [
       "array([[0, 0],\n",
       "       [0, 0]])"
      ]
     },
     "execution_count": 23,
     "metadata": {},
     "output_type": "execute_result"
    }
   ],
   "source": [
    "A - A"
   ]
  },
  {
   "cell_type": "code",
   "execution_count": 24,
   "id": "48525247",
   "metadata": {},
   "outputs": [
    {
     "data": {
      "text/plain": [
       "array([[1., 1.],\n",
       "       [1., 1.]])"
      ]
     },
     "execution_count": 24,
     "metadata": {},
     "output_type": "execute_result"
    }
   ],
   "source": [
    "A / A"
   ]
  },
  {
   "cell_type": "code",
   "execution_count": 27,
   "id": "185226be",
   "metadata": {},
   "outputs": [
    {
     "data": {
      "text/plain": [
       "array([[ 1,  4],\n",
       "       [ 9, 16]])"
      ]
     },
     "execution_count": 27,
     "metadata": {},
     "output_type": "execute_result"
    }
   ],
   "source": [
    "A * A"
   ]
  },
  {
   "cell_type": "markdown",
   "id": "288ef641",
   "metadata": {},
   "source": [
    "## 3.1.6 브로드캐스팅"
   ]
  },
  {
   "cell_type": "markdown",
   "id": "f6a12239",
   "metadata": {},
   "source": [
    "행렬의 크기가 달라도 연산이 가능하게 작은 행렬을 확장해주는 기능"
   ]
  },
  {
   "cell_type": "code",
   "execution_count": 29,
   "id": "f6677497",
   "metadata": {},
   "outputs": [
    {
     "data": {
      "text/plain": [
       "array([[1, 2],\n",
       "       [3, 4]])"
      ]
     },
     "execution_count": 29,
     "metadata": {},
     "output_type": "execute_result"
    }
   ],
   "source": [
    "A"
   ]
  },
  {
   "cell_type": "code",
   "execution_count": 30,
   "id": "b4c1fbd2",
   "metadata": {},
   "outputs": [],
   "source": [
    "B = [10, 100]"
   ]
  },
  {
   "cell_type": "code",
   "execution_count": 31,
   "id": "c9c8105a",
   "metadata": {},
   "outputs": [
    {
     "data": {
      "text/plain": [
       "array([[ 10, 200],\n",
       "       [ 30, 400]])"
      ]
     },
     "execution_count": 31,
     "metadata": {},
     "output_type": "execute_result"
    }
   ],
   "source": [
    "A * B"
   ]
  },
  {
   "cell_type": "code",
   "execution_count": null,
   "id": "a9a87134",
   "metadata": {},
   "outputs": [],
   "source": []
  }
 ],
 "metadata": {
  "kernelspec": {
   "display_name": "Python 3 (ipykernel)",
   "language": "python",
   "name": "python3"
  },
  "language_info": {
   "codemirror_mode": {
    "name": "ipython",
    "version": 3
   },
   "file_extension": ".py",
   "mimetype": "text/x-python",
   "name": "python",
   "nbconvert_exporter": "python",
   "pygments_lexer": "ipython3",
   "version": "3.9.0"
  }
 },
 "nbformat": 4,
 "nbformat_minor": 5
}
